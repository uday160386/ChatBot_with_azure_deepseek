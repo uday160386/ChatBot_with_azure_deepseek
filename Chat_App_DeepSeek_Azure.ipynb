{
  "nbformat": 4,
  "nbformat_minor": 0,
  "metadata": {
    "colab": {
      "provenance": [],
      "authorship_tag": "ABX9TyMh8tZ5xPsKqH24mJ0+1Odw",
      "include_colab_link": true
    },
    "kernelspec": {
      "name": "python3",
      "display_name": "Python 3"
    },
    "language_info": {
      "name": "python"
    }
  },
  "cells": [
    {
      "cell_type": "markdown",
      "metadata": {
        "id": "view-in-github",
        "colab_type": "text"
      },
      "source": [
        "<a href=\"https://colab.research.google.com/github/uday160386/ChatBot_with_azure_deepseek/blob/main/Chat_App_DeepSeek_Azure.ipynb\" target=\"_parent\"><img src=\"https://colab.research.google.com/assets/colab-badge.svg\" alt=\"Open In Colab\"/></a>"
      ]
    },
    {
      "cell_type": "markdown",
      "source": [
        "Installing required Python Packages"
      ],
      "metadata": {
        "id": "IFw6xJuWfcvp"
      }
    },
    {
      "cell_type": "code",
      "execution_count": 1,
      "metadata": {
        "colab": {
          "base_uri": "https://localhost:8080/"
        },
        "id": "OCEMWLUnfK_Q",
        "outputId": "e9c2a720-473a-4d76-e2f9-2b00b24f621c"
      },
      "outputs": [
        {
          "output_type": "stream",
          "name": "stdout",
          "text": [
            "Collecting azure-ai-inference\n",
            "  Downloading azure_ai_inference-1.0.0b9-py3-none-any.whl.metadata (34 kB)\n",
            "Collecting isodate>=0.6.1 (from azure-ai-inference)\n",
            "  Downloading isodate-0.7.2-py3-none-any.whl.metadata (11 kB)\n",
            "Collecting azure-core>=1.30.0 (from azure-ai-inference)\n",
            "  Downloading azure_core-1.32.0-py3-none-any.whl.metadata (39 kB)\n",
            "Requirement already satisfied: typing-extensions>=4.6.0 in /usr/local/lib/python3.11/dist-packages (from azure-ai-inference) (4.12.2)\n",
            "Requirement already satisfied: requests>=2.21.0 in /usr/local/lib/python3.11/dist-packages (from azure-core>=1.30.0->azure-ai-inference) (2.32.3)\n",
            "Requirement already satisfied: six>=1.11.0 in /usr/local/lib/python3.11/dist-packages (from azure-core>=1.30.0->azure-ai-inference) (1.17.0)\n",
            "Requirement already satisfied: charset-normalizer<4,>=2 in /usr/local/lib/python3.11/dist-packages (from requests>=2.21.0->azure-core>=1.30.0->azure-ai-inference) (3.4.1)\n",
            "Requirement already satisfied: idna<4,>=2.5 in /usr/local/lib/python3.11/dist-packages (from requests>=2.21.0->azure-core>=1.30.0->azure-ai-inference) (3.10)\n",
            "Requirement already satisfied: urllib3<3,>=1.21.1 in /usr/local/lib/python3.11/dist-packages (from requests>=2.21.0->azure-core>=1.30.0->azure-ai-inference) (2.3.0)\n",
            "Requirement already satisfied: certifi>=2017.4.17 in /usr/local/lib/python3.11/dist-packages (from requests>=2.21.0->azure-core>=1.30.0->azure-ai-inference) (2025.1.31)\n",
            "Downloading azure_ai_inference-1.0.0b9-py3-none-any.whl (124 kB)\n",
            "\u001b[2K   \u001b[90m━━━━━━━━━━━━━━━━━━━━━━━━━━━━━━━━━━━━━━━━\u001b[0m \u001b[32m124.9/124.9 kB\u001b[0m \u001b[31m7.4 MB/s\u001b[0m eta \u001b[36m0:00:00\u001b[0m\n",
            "\u001b[?25hDownloading azure_core-1.32.0-py3-none-any.whl (198 kB)\n",
            "\u001b[2K   \u001b[90m━━━━━━━━━━━━━━━━━━━━━━━━━━━━━━━━━━━━━━━━\u001b[0m \u001b[32m198.9/198.9 kB\u001b[0m \u001b[31m11.9 MB/s\u001b[0m eta \u001b[36m0:00:00\u001b[0m\n",
            "\u001b[?25hDownloading isodate-0.7.2-py3-none-any.whl (22 kB)\n",
            "Installing collected packages: isodate, azure-core, azure-ai-inference\n",
            "Successfully installed azure-ai-inference-1.0.0b9 azure-core-1.32.0 isodate-0.7.2\n"
          ]
        }
      ],
      "source": [
        "pip install azure-ai-inference\n"
      ]
    },
    {
      "cell_type": "markdown",
      "source": [
        "Defining global variables - Endpoint url and key. You can get these details on deploying model in Azure.\n"
      ],
      "metadata": {
        "id": "vAOX1xXYgA9U"
      }
    },
    {
      "cell_type": "code",
      "source": [
        "ENDPOINT_URL=\"https://DeepSeek-R1-uytpc.eastus2.models.ai.azure.com\"\n",
        "Key=\"\"\n",
        "model_name = \"DeepSeek-R1\""
      ],
      "metadata": {
        "id": "c4LSzJIVf1wP"
      },
      "execution_count": 1,
      "outputs": []
    },
    {
      "cell_type": "code",
      "source": [
        "import os\n",
        "from azure.ai.inference import ChatCompletionsClient\n",
        "from azure.ai.inference.models import SystemMessage, UserMessage\n",
        "from azure.core.credentials import AzureKeyCredential\n",
        "\n",
        "client = ChatCompletionsClient(\n",
        "    endpoint=ENDPOINT_URL,\n",
        "    credential=AzureKeyCredential(Key),\n",
        ")\n",
        "\n",
        "response = client.complete(\n",
        "    messages=[\n",
        "        SystemMessage(content=\"You are a helpful assistant.\"),\n",
        "        UserMessage(content=\"I am going to Paris, what should I see?\")\n",
        "    ],\n",
        "    max_tokens=2048,\n",
        "    model=model_name\n",
        ")\n",
        "\n",
        "print(response.choices[0].message.content)"
      ],
      "metadata": {
        "colab": {
          "base_uri": "https://localhost:8080/"
        },
        "id": "X37qQknhiY0M",
        "outputId": "1d094e58-cc0d-4d8f-9e68-f934f8c9fa5a"
      },
      "execution_count": 2,
      "outputs": [
        {
          "output_type": "stream",
          "name": "stdout",
          "text": [
            "<think>\n",
            "Okay, the user is going to Paris and wants to know what to see. Let me start by thinking about the main attractions. The Eiffel Tower is an obvious one, but maybe I should mention different ways to experience it, like visiting at night. Then there's the Louvre—definitely a must for art lovers. But maybe they don't know about the smaller museums or the Paris Museum Pass? \n",
            "\n",
            "Notre-Dame is important, but I should check if it's open after the fire. Oh right, it's still under restoration, but they can still visit the surrounding areas. Montmartre and Sacré-Cœur come to mind for a more artsy vibe. Also, maybe include some tips about dining there. \n",
            "\n",
            "The Champs-Élysées and Arc de Triomphe are classic spots. Should I mention climbing the Arc for the view? The Seine River cruise is a nice addition for a different perspective. How about mentioning night cruises too? \n",
            "\n",
            "The Musée d'Orsay is another key museum. Versailles is a bit outside Paris but definitely worth a day trip. Maybe advise booking tickets in advance. Luxembourg Gardens could be a nice relaxing spot, especially if they're traveling in warmer months. \n",
            "\n",
            "Le Marais is great for shopping and history, so include that. Maybe suggest specific places like Place des Vosges. Père Lachaise Cemetery might be interesting for some visitors, especially if they know the famous people buried there. \n",
            "\n",
            "Opera Garnier is beautiful even if they don't watch a show. Saint-Germain-des-Prés has cafes and literary history. Catacombs are unique but might not be for everyone. \n",
            "\n",
            "Day trips to places like Versailles, Giverny, or Disneyland Paris could be options. Also, practical tips like metro passes, French phrases, and dining etiquette. \n",
            "\n",
            "Wait, I should check if all these places are open and any current events affecting them. Also, maybe group them by area or type to help with planning. Let me make sure the information is up to date, especially regarding Notre-Dame's accessibility. \n",
            "\n",
            "Oh, and maybe add some local tips, like trying street food or visiting local markets. Also, mention the Paris Pass if it's worth it. Safety tips for tourists, like watching out for pickpockets in crowded areas. \n",
            "\n",
            "I should structure this in a way that's easy to follow, maybe numbered list with highlights, tips, and practical advice. Keep paragraphs short and friendly. Make sure to cover a mix of iconic spots and some hidden gems. Check for any seasonal variations, like gardens being better in spring or summer. \n",
            "\n",
            "Also, consider transportation between these places. Maybe suggest areas to stay in. But the user just asked what to see, so maybe not too much on accommodation unless relevant. \n",
            "\n",
            "Wait, the user might be a first-time visitor, so prioritize the top sights but also include some unique experiences. Ensure the advice is practical, like booking tickets in advance to skip lines, best times to visit popular spots to avoid crowds, etc. \n",
            "\n",
            "I think that's a good start. Now organize the points logically, perhaps starting with the most iconic landmarks, then museums, neighborhoods, day trips, and practical tips. Keep the tone enthusiastic and helpful.\n",
            "</think>\n",
            "\n",
            "Paris is a treasure trove of iconic landmarks, cultural gems, and charming neighborhoods. Here’s a curated list to help you make the most of your trip:\n",
            "\n",
            "### **Top Attractions**\n",
            "1. **Eiffel Tower**  \n",
            "   - Visit at sunset for golden-hour views, or at night when it sparkles for 5 minutes every hour. Book tickets in advance to avoid queues.  \n",
            "   - *Tip*: Picnic at Champ de Mars park beneath the tower.\n",
            "\n",
            "2. **The Louvre**  \n",
            "   - Home to the *Mona Lisa* and *Venus de Milo*. Allocate 2-3 hours; prioritize sections that interest you.  \n",
            "   - *Skip the line*: Buy tickets online or use the Paris Museum Pass. Consider the quieter Porte des Lions entrance.\n",
            "\n",
            "3. **Notre-Dame Cathedral**  \n",
            "   - Though the interior remains closed post-fire, admire the Gothic architecture and explore Île de la Cité. The archaeological crypt nearby is fascinating.\n",
            "\n",
            "4. **Montmartre & Sacré-Cœur Basilica**  \n",
            "   - Wander cobblestone streets, visit Place du Tertre (artist square), and climb Sacré-Cœur for panoramic views.  \n",
            "   - *Dine*: Try cozy bistros like *La Maison Rose*.\n",
            "\n",
            "5. **Champs-Élysées & Arc de Triomphe**  \n",
            "   - Stroll the avenue, then climb the Arc for a stunning view of Paris’s radiating streets. Sunset is magical here.\n",
            "\n",
            "6. **Seine River Cruise**  \n",
            "   - Opt for a dinner cruise or a daytime ride. Pass under historic bridges and see landmarks lit up at night.\n",
            "\n",
            "### **Museums & Culture**\n",
            "- **Musée d’Orsay**: Impressionist masterpieces in a stunning former railway station (Van Gogh, Monet, Rodin).  \n",
            "- **Centre Pompidou**: Modern art in a futuristic building.  \n",
            "- **Sainte-Chapelle**: Nearby Notre-Dame, famous for its stained glass (buy a combo ticket with Conciergerie).\n",
            "\n",
            "### **Neighborhoods to Explore**\n",
            "- **Le Marais**: Historic district with chic boutiques, falafel spots (L’As du Fallafel), and Place des Vosges.  \n",
            "- **Saint-Germain-des-Prés**: Literary cafés like Les Deux Magots, plus luxury shopping.  \n",
            "- **Latin Quarter**: Lively student area with bookshops (Shakespeare & Company) and the Panthéon.\n",
            "\n",
            "### **Day Trips**\n",
            "- **Palace of Versailles**: Grandeur of the Hall of Mirrors and sprawling gardens (book tickets early).  \n",
            "- **Giverny**: Monet’s house and water lily gardens (open April–Oct).  \n",
            "- **Disneyland Paris**: Perfect for families or fans of the parks.\n",
            "\n",
            "### **Hidden Gems & Unique Spots**\n",
            "- **Père Lachaise Cemetery**: Final resting place of Jim Morrison, Oscar Wilde, and Édith Piaf.  \n",
            "- **Catacombs**: Underground ossuary with a haunting history (book ahead).  \n",
            "- **Marché aux Puces de Saint-Ouen**: Europe’s largest flea market (open weekends).\n",
            "\n",
            "### **Practical Tips**\n",
            "- **Transport**: Buy a *carnet* (10-pack) of metro tickets or a Navigo pass for longer stays.  \n",
            "- **Dining**: Lunch menus are cheaper than dinner. Learn basic French phrases like *\"Bonjour\"* and *\"Merci\"*.  \n",
            "- **Safety**: Watch for pickpockets in crowded areas (métro, tourist hubs).  \n",
            "\n",
            "### **Seasonal Suggestions**\n",
            "- **Spring/Summer**: Luxembourg Gardens, boat rides on Canal Saint-Martin.  \n",
            "- **Autumn/Winter**: Cozy café hopping, Christmas markets (Dec), and ice skating at Hôtel de Ville.  \n",
            "\n",
            "Let me know if you’d like deeper dives into specific areas or themes—Paris has endless delights! 🇫🇷✨\n"
          ]
        }
      ]
    },
    {
      "cell_type": "code",
      "source": [
        "\n",
        "client = ChatCompletionsClient(\n",
        "    endpoint=ENDPOINT_URL,\n",
        "    credential=AzureKeyCredential(Key),\n",
        ")\n",
        "response = client.complete(\n",
        "    stream=True,\n",
        "    messages=[\n",
        "        SystemMessage(content=\"You are a helpful assistant.\"),\n",
        "        UserMessage(content=\"I am going to Paris, what should I see?\")\n",
        "    ],\n",
        "    max_tokens=2048,\n",
        "    model=model_name\n",
        ")\n",
        "for update in response:\n",
        "    if update.choices:\n",
        "        print(update.choices[0].delta.content or \"\", end=\"\")\n",
        "\n",
        "client.close()"
      ],
      "metadata": {
        "colab": {
          "base_uri": "https://localhost:8080/"
        },
        "id": "OAb9rY8DlnQ-",
        "outputId": "238525d9-1f8d-4e0c-cf13-e8bc580f21f0"
      },
      "execution_count": 5,
      "outputs": [
        {
          "output_type": "stream",
          "name": "stdout",
          "text": [
            "<think>\n",
            "Okay, the user is planning a trip to Paris and wants to know what to see. Paris is a big city with lots of attractions, so I need to make a list of the main ones but also maybe some hidden gems. Let me start by thinking about the most famous landmarks. The Eiffel Tower is a must, obviously. Then there's the Louvre, which is a major museum. Notre-Dame might be tricky because of the recent fire, but maybe they can still visit the area. Champs-Élysées and Arc de Triomphe are nearby each other. Montmartre and Sacré-Cœur are popular too. \n",
            "\n",
            "Wait, maybe I should categorize them by areas or themes. Like historical sites, museums, neighborhoods, etc. Also, practical tips could be helpful, like getting a museum pass or using the metro. They might not have mentioned how long they're staying, so I should suggest a mix that can be adjusted based on time. Maybe also include some day trip options like Versailles. Oh, and food recommendations are important too—cafés, patisseries, maybe a market. \n",
            "\n",
            "Let me check if there's anything I'm missing. The Musée d'Orsay is another big museum, maybe even more enjoyable than the Louvre for some people. Luxembourg Gardens could be a nice relaxing spot. Le Marais is a trendy area with shops and cafes. Also, maybe mention the Seine River cruises as an evening activity. I should also consider the time needed for each attraction. The Louvre takes a whole day, while others might be quicker. \n",
            "\n",
            "Also, check for any current events or closures. For example, Notre-Dame is under restoration, so access might be limited. Should mention that. Versailles can be crowded, so advising to go early. Transportation tips like using a Navigo card for the metro. Maybe some safety tips too, like being aware of pickpockets in tourist areas. \n",
            "\n",
            "Let me structure the answer with clear sections: iconic landmarks, museums, neighborhoods, food, day trips, tips. That should cover most aspects. Make sure it's not too long but comprehensive. Avoid overwhelming the user, but offer enough options so they can pick based on their interests. Double-check the spelling of French names. Sacré-Cœur, Champs-Élysées, Le Marais. Maybe add a few lesser-known spots like Canal Saint-Martin or Père Lachaise Cemetery for someone interested in offbeat places. \n",
            "\n",
            "Wait, the user didn't specify their interests, so it's safer to include a variety. Also, note that some attractions require advance booking, like the Eiffel Tower summit or timed entries for museums. That's important to avoid disappointment. \n",
            "\n",
            "Okay, putting it all together now. Start with the top must-sees, then museums, then neighborhoods, add food experiences, day trips, and practical tips. Keep the tone friendly and helpful. Make sure each section is concise with bullet points or short paragraphs. Avoid jargon, keep it simple and encouraging. Let them know they can ask for more details if needed.\n",
            "</think>\n",
            "\n",
            "Paris is a treasure trove of iconic landmarks, cultural gems, and charming experiences. Here’s a curated list to help you plan:\n",
            "\n",
            "### **Iconic Landmarks**  \n",
            "- **Eiffel Tower**: Visit day *and* night—sparkling lights at dusk are magical. Book summit tickets in advance.  \n",
            "- **Notre-Dame Cathedral**: Though restoration continues post-fire, the exterior and surrounding Île de la Cité are stunning.  \n",
            "- **Arc de Triomphe & Champs-Élysées**: Climb the Arc for panoramic views, then stroll the famous avenue.  \n",
            "- **Sacré-Cœur & Montmartre**: Wander this artsy hilltop village, enjoy street artists, and café life.  \n",
            "\n",
            "### **Museums**  \n",
            "- **Louvre**: Prioritize highlights (Mona Lisa, Venus de Milo) or explore lesser-known wings. Pre-book tickets.  \n",
            "- **Musée d’Orsay**: Impressionist masterpieces in a gorgeous Beaux-Arts station. Less crowded than the Louvre.  \n",
            "- **Centre Pompidou**: Modern art lovers will adore the avant-garde exhibits and rooftop views.  \n",
            "\n",
            "### **Neighborhoods & Vibes**  \n",
            "- **Le Marais**: Historic, trendy area with boutiques, falafel spots (L’As du Fallafel!), and the Place des Vosges.  \n",
            "- **Saint-Germain-des-Prés**: Classic Parisian cafés (Café de Flore, Les Deux Magots) and chic shopping.  \n",
            "- **Canal Saint-Martin**: Quirky shops, picnic spots, and a local vibe. Great for a relaxed afternoon.  \n",
            "\n",
            "### **Food & Markets**  \n",
            "- **Patisseries**: Try *pain au chocolat* at Du Pain et des Idées or macarons at Ladurée/Pierre Hermé.  \n",
            "- **Marché des Enfants Rouges**: Paris’ oldest covered market—grab fresh produce or a Moroccan tagine.  \n",
            "- **Bistros**: Dive into steak frites, onion soup, or crème brûlée at a classic spot like Chez L’Ami Jean.  \n",
            "\n",
            "### **Day Trips**  \n",
            "- **Versailles**: Explore the palace’s Hall of Mirrors and vast gardens (rent a bike!). Arrive early to avoid crowds.  \n",
            "- **Giverny**: Monet’s house and gardens (spring/summer only)—a painter’s paradise.  \n",
            "\n",
            "### **Tips**  \n",
            "- **Transport**: Use the metro or walk—central Paris is compact. A Navigo card or Bonjour RATP app helps.  \n",
            "- **Safety**: Watch for pickpockets in crowded areas (museums, metros).  \n",
            "- **Passes**: Consider a Paris Museum Pass for skip-the-line access.  \n",
            "- **River Cruise**: A Seine dinner cruise or sunset boat ride offers magical views.  \n",
            "\n",
            "**Hidden Gems**:  \n",
            "- **Père Lachaise Cemetery**: Pay respects to Jim Morrison, Oscar Wilde, and Edith Piaf.  \n",
            "- **La Coulée Verte**: Elevated park built on an old railway line—perfect for a quiet walk.  \n",
            "\n",
            "Tailor your itinerary to your interests, and leave time for leisurely café stops! Let me know if you’d like deeper dives into specific areas. Bon voyage! 🇫🇷✨"
          ]
        }
      ]
    }
  ]
}